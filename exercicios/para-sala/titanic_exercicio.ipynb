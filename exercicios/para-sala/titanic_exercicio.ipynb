{
 "cells": [
  {
   "cell_type": "code",
   "execution_count": 10,
   "metadata": {},
   "outputs": [
    {
     "name": "stdout",
     "output_type": "stream",
     "text": [
      "Defaulting to user installation because normal site-packages is not writeableNote: you may need to restart the kernel to use updated packages.\n",
      "\n",
      "Collecting matplotlib\n",
      "  Downloading matplotlib-3.9.0-cp312-cp312-win_amd64.whl.metadata (11 kB)\n",
      "Collecting contourpy>=1.0.1 (from matplotlib)\n",
      "  Downloading contourpy-1.2.1-cp312-cp312-win_amd64.whl.metadata (5.8 kB)\n",
      "Collecting cycler>=0.10 (from matplotlib)\n",
      "  Downloading cycler-0.12.1-py3-none-any.whl.metadata (3.8 kB)\n",
      "Collecting fonttools>=4.22.0 (from matplotlib)\n",
      "  Downloading fonttools-4.53.0-cp312-cp312-win_amd64.whl.metadata (165 kB)\n",
      "     ---------------------------------------- 0.0/165.5 kB ? eta -:--:--\n",
      "     ------ ------------------------------ 30.7/165.5 kB 660.6 kB/s eta 0:00:01\n",
      "     ---------------------------- --------- 122.9/165.5 kB 1.2 MB/s eta 0:00:01\n",
      "     -------------------------------------- 165.5/165.5 kB 1.4 MB/s eta 0:00:00\n",
      "Collecting kiwisolver>=1.3.1 (from matplotlib)\n",
      "  Downloading kiwisolver-1.4.5-cp312-cp312-win_amd64.whl.metadata (6.5 kB)\n",
      "Requirement already satisfied: numpy>=1.23 in c:\\users\\tebe 989\\appdata\\local\\packages\\pythonsoftwarefoundation.python.3.12_qbz5n2kfra8p0\\localcache\\local-packages\\python312\\site-packages (from matplotlib) (1.26.4)\n",
      "Requirement already satisfied: packaging>=20.0 in c:\\users\\tebe 989\\appdata\\local\\packages\\pythonsoftwarefoundation.python.3.12_qbz5n2kfra8p0\\localcache\\local-packages\\python312\\site-packages (from matplotlib) (24.0)\n",
      "Collecting pillow>=8 (from matplotlib)\n",
      "  Downloading pillow-10.3.0-cp312-cp312-win_amd64.whl.metadata (9.4 kB)\n",
      "Collecting pyparsing>=2.3.1 (from matplotlib)\n",
      "  Downloading pyparsing-3.1.2-py3-none-any.whl.metadata (5.1 kB)\n",
      "Requirement already satisfied: python-dateutil>=2.7 in c:\\users\\tebe 989\\appdata\\local\\packages\\pythonsoftwarefoundation.python.3.12_qbz5n2kfra8p0\\localcache\\local-packages\\python312\\site-packages (from matplotlib) (2.9.0.post0)\n",
      "Requirement already satisfied: six>=1.5 in c:\\users\\tebe 989\\appdata\\local\\packages\\pythonsoftwarefoundation.python.3.12_qbz5n2kfra8p0\\localcache\\local-packages\\python312\\site-packages (from python-dateutil>=2.7->matplotlib) (1.16.0)\n",
      "Downloading matplotlib-3.9.0-cp312-cp312-win_amd64.whl (8.0 MB)\n",
      "   ---------------------------------------- 0.0/8.0 MB ? eta -:--:--\n",
      "    --------------------------------------- 0.1/8.0 MB 3.2 MB/s eta 0:00:03\n",
      "    --------------------------------------- 0.2/8.0 MB 2.3 MB/s eta 0:00:04\n",
      "   - -------------------------------------- 0.2/8.0 MB 1.8 MB/s eta 0:00:05\n",
      "   - -------------------------------------- 0.2/8.0 MB 1.8 MB/s eta 0:00:05\n",
      "   - -------------------------------------- 0.3/8.0 MB 1.4 MB/s eta 0:00:06\n",
      "   - -------------------------------------- 0.4/8.0 MB 1.4 MB/s eta 0:00:06\n",
      "   -- ------------------------------------- 0.5/8.0 MB 1.4 MB/s eta 0:00:06\n",
      "   -- ------------------------------------- 0.5/8.0 MB 1.5 MB/s eta 0:00:06\n",
      "   ---- ----------------------------------- 0.8/8.0 MB 2.1 MB/s eta 0:00:04\n",
      "   ---- ----------------------------------- 0.9/8.0 MB 2.0 MB/s eta 0:00:04\n",
      "   ------ --------------------------------- 1.2/8.0 MB 2.4 MB/s eta 0:00:03\n",
      "   -------- ------------------------------- 1.7/8.0 MB 3.0 MB/s eta 0:00:03\n",
      "   ---------- ----------------------------- 2.0/8.0 MB 3.3 MB/s eta 0:00:02\n",
      "   ----------- ---------------------------- 2.4/8.0 MB 3.7 MB/s eta 0:00:02\n",
      "   ----------- ---------------------------- 2.4/8.0 MB 3.4 MB/s eta 0:00:02\n",
      "   ------------ --------------------------- 2.4/8.0 MB 3.3 MB/s eta 0:00:02\n",
      "   ------------- -------------------------- 2.7/8.0 MB 3.4 MB/s eta 0:00:02\n",
      "   --------------- ------------------------ 3.2/8.0 MB 3.8 MB/s eta 0:00:02\n",
      "   ---------------- ----------------------- 3.3/8.0 MB 3.9 MB/s eta 0:00:02\n",
      "   ---------------- ----------------------- 3.3/8.0 MB 3.8 MB/s eta 0:00:02\n",
      "   ---------------- ----------------------- 3.4/8.0 MB 3.5 MB/s eta 0:00:02\n",
      "   ------------------ --------------------- 3.6/8.0 MB 3.6 MB/s eta 0:00:02\n",
      "   ------------------ --------------------- 3.7/8.0 MB 3.5 MB/s eta 0:00:02\n",
      "   ------------------ --------------------- 3.7/8.0 MB 3.4 MB/s eta 0:00:02\n",
      "   ------------------- -------------------- 3.8/8.0 MB 3.3 MB/s eta 0:00:02\n",
      "   ------------------- -------------------- 3.9/8.0 MB 3.2 MB/s eta 0:00:02\n",
      "   ------------------- -------------------- 3.9/8.0 MB 3.2 MB/s eta 0:00:02\n",
      "   -------------------- ------------------- 4.0/8.0 MB 3.1 MB/s eta 0:00:02\n",
      "   -------------------- ------------------- 4.1/8.0 MB 3.1 MB/s eta 0:00:02\n",
      "   --------------------- ------------------ 4.3/8.0 MB 3.1 MB/s eta 0:00:02\n",
      "   ----------------------- ---------------- 4.6/8.0 MB 3.2 MB/s eta 0:00:02\n",
      "   ------------------------- -------------- 5.0/8.0 MB 3.4 MB/s eta 0:00:01\n",
      "   --------------------------- ------------ 5.4/8.0 MB 3.6 MB/s eta 0:00:01\n",
      "   ---------------------------- ----------- 5.7/8.0 MB 3.7 MB/s eta 0:00:01\n",
      "   ------------------------------ --------- 6.0/8.0 MB 3.7 MB/s eta 0:00:01\n",
      "   -------------------------------- ------- 6.5/8.0 MB 3.9 MB/s eta 0:00:01\n",
      "   ---------------------------------- ----- 6.8/8.0 MB 4.0 MB/s eta 0:00:01\n",
      "   ---------------------------------- ----- 6.8/8.0 MB 4.0 MB/s eta 0:00:01\n",
      "   ----------------------------------- ---- 7.1/8.0 MB 3.9 MB/s eta 0:00:01\n",
      "   ------------------------------------- -- 7.4/8.0 MB 4.0 MB/s eta 0:00:01\n",
      "   -------------------------------------- - 7.7/8.0 MB 4.1 MB/s eta 0:00:01\n",
      "   ---------------------------------------  8.0/8.0 MB 4.1 MB/s eta 0:00:01\n",
      "   ---------------------------------------- 8.0/8.0 MB 4.1 MB/s eta 0:00:00\n",
      "Downloading contourpy-1.2.1-cp312-cp312-win_amd64.whl (189 kB)\n",
      "   ---------------------------------------- 0.0/189.9 kB ? eta -:--:--\n",
      "   --------------------------------------- 189.9/189.9 kB 11.2 MB/s eta 0:00:00\n",
      "Downloading cycler-0.12.1-py3-none-any.whl (8.3 kB)\n",
      "Downloading fonttools-4.53.0-cp312-cp312-win_amd64.whl (2.2 MB)\n",
      "   ---------------------------------------- 0.0/2.2 MB ? eta -:--:--\n",
      "   ------- -------------------------------- 0.4/2.2 MB 8.9 MB/s eta 0:00:01\n",
      "   ------------- -------------------------- 0.8/2.2 MB 8.0 MB/s eta 0:00:01\n",
      "   ---------------------- ----------------- 1.2/2.2 MB 8.7 MB/s eta 0:00:01\n",
      "   ---------------------------- ----------- 1.5/2.2 MB 8.9 MB/s eta 0:00:01\n",
      "   -------------------------------- ------- 1.8/2.2 MB 8.1 MB/s eta 0:00:01\n",
      "   ------------------------------------ --- 2.0/2.2 MB 7.6 MB/s eta 0:00:01\n",
      "   ---------------------------------------- 2.2/2.2 MB 7.0 MB/s eta 0:00:00\n",
      "Downloading kiwisolver-1.4.5-cp312-cp312-win_amd64.whl (56 kB)\n",
      "   ---------------------------------------- 0.0/56.0 kB ? eta -:--:--\n",
      "   ---------------------------------------- 56.0/56.0 kB 2.9 MB/s eta 0:00:00\n",
      "Downloading pillow-10.3.0-cp312-cp312-win_amd64.whl (2.5 MB)\n",
      "   ---------------------------------------- 0.0/2.5 MB ? eta -:--:--\n",
      "   ----- ---------------------------------- 0.3/2.5 MB 9.9 MB/s eta 0:00:01\n",
      "   ----------- ---------------------------- 0.7/2.5 MB 9.1 MB/s eta 0:00:01\n",
      "   ----------------- ---------------------- 1.1/2.5 MB 8.8 MB/s eta 0:00:01\n",
      "   ------------------------ --------------- 1.5/2.5 MB 8.9 MB/s eta 0:00:01\n",
      "   ------------------------------ --------- 1.9/2.5 MB 8.8 MB/s eta 0:00:01\n",
      "   -------------------------------------- - 2.4/2.5 MB 9.0 MB/s eta 0:00:01\n",
      "   ---------------------------------------- 2.5/2.5 MB 8.1 MB/s eta 0:00:00\n",
      "Downloading pyparsing-3.1.2-py3-none-any.whl (103 kB)\n",
      "   ---------------------------------------- 0.0/103.2 kB ? eta -:--:--\n",
      "   ---------------------------------------- 103.2/103.2 kB ? eta 0:00:00\n",
      "Installing collected packages: pyparsing, pillow, kiwisolver, fonttools, cycler, contourpy, matplotlib\n",
      "Successfully installed contourpy-1.2.1 cycler-0.12.1 fonttools-4.53.0 kiwisolver-1.4.5 matplotlib-3.9.0 pillow-10.3.0 pyparsing-3.1.2\n"
     ]
    }
   ],
   "source": [
    "pip install matplotlib"
   ]
  },
  {
   "cell_type": "code",
   "execution_count": 64,
   "metadata": {},
   "outputs": [],
   "source": [
    "import matplotlib.pyplot as plt"
   ]
  },
  {
   "cell_type": "code",
   "execution_count": 6,
   "metadata": {},
   "outputs": [],
   "source": [
    "#bibliotecas\n",
    "import pandas as pd\n",
    "import numpy as np"
   ]
  },
  {
   "cell_type": "code",
   "execution_count": 17,
   "metadata": {},
   "outputs": [
    {
     "data": {
      "text/html": [
       "<div>\n",
       "<style scoped>\n",
       "    .dataframe tbody tr th:only-of-type {\n",
       "        vertical-align: middle;\n",
       "    }\n",
       "\n",
       "    .dataframe tbody tr th {\n",
       "        vertical-align: top;\n",
       "    }\n",
       "\n",
       "    .dataframe thead th {\n",
       "        text-align: right;\n",
       "    }\n",
       "</style>\n",
       "<table border=\"1\" class=\"dataframe\">\n",
       "  <thead>\n",
       "    <tr style=\"text-align: right;\">\n",
       "      <th></th>\n",
       "      <th>PassengerId</th>\n",
       "      <th>Survived</th>\n",
       "      <th>Pclass</th>\n",
       "      <th>Name</th>\n",
       "      <th>Sex</th>\n",
       "      <th>Age</th>\n",
       "      <th>SibSp</th>\n",
       "      <th>Parch</th>\n",
       "      <th>Ticket</th>\n",
       "      <th>Fare</th>\n",
       "      <th>Cabin</th>\n",
       "      <th>Embarked</th>\n",
       "    </tr>\n",
       "  </thead>\n",
       "  <tbody>\n",
       "    <tr>\n",
       "      <th>0</th>\n",
       "      <td>1</td>\n",
       "      <td>0</td>\n",
       "      <td>3</td>\n",
       "      <td>Braund, Mr. Owen Harris</td>\n",
       "      <td>male</td>\n",
       "      <td>22.0</td>\n",
       "      <td>1</td>\n",
       "      <td>0</td>\n",
       "      <td>A/5 21171</td>\n",
       "      <td>7.2500</td>\n",
       "      <td>NaN</td>\n",
       "      <td>S</td>\n",
       "    </tr>\n",
       "    <tr>\n",
       "      <th>1</th>\n",
       "      <td>2</td>\n",
       "      <td>1</td>\n",
       "      <td>1</td>\n",
       "      <td>Cumings, Mrs. John Bradley (Florence Briggs Th...</td>\n",
       "      <td>female</td>\n",
       "      <td>38.0</td>\n",
       "      <td>1</td>\n",
       "      <td>0</td>\n",
       "      <td>PC 17599</td>\n",
       "      <td>71.2833</td>\n",
       "      <td>C85</td>\n",
       "      <td>C</td>\n",
       "    </tr>\n",
       "    <tr>\n",
       "      <th>2</th>\n",
       "      <td>3</td>\n",
       "      <td>1</td>\n",
       "      <td>3</td>\n",
       "      <td>Heikkinen, Miss. Laina</td>\n",
       "      <td>female</td>\n",
       "      <td>26.0</td>\n",
       "      <td>0</td>\n",
       "      <td>0</td>\n",
       "      <td>STON/O2. 3101282</td>\n",
       "      <td>7.9250</td>\n",
       "      <td>NaN</td>\n",
       "      <td>S</td>\n",
       "    </tr>\n",
       "    <tr>\n",
       "      <th>3</th>\n",
       "      <td>4</td>\n",
       "      <td>1</td>\n",
       "      <td>1</td>\n",
       "      <td>Futrelle, Mrs. Jacques Heath (Lily May Peel)</td>\n",
       "      <td>female</td>\n",
       "      <td>35.0</td>\n",
       "      <td>1</td>\n",
       "      <td>0</td>\n",
       "      <td>113803</td>\n",
       "      <td>53.1000</td>\n",
       "      <td>C123</td>\n",
       "      <td>S</td>\n",
       "    </tr>\n",
       "    <tr>\n",
       "      <th>4</th>\n",
       "      <td>5</td>\n",
       "      <td>0</td>\n",
       "      <td>3</td>\n",
       "      <td>Allen, Mr. William Henry</td>\n",
       "      <td>male</td>\n",
       "      <td>35.0</td>\n",
       "      <td>0</td>\n",
       "      <td>0</td>\n",
       "      <td>373450</td>\n",
       "      <td>8.0500</td>\n",
       "      <td>NaN</td>\n",
       "      <td>S</td>\n",
       "    </tr>\n",
       "    <tr>\n",
       "      <th>...</th>\n",
       "      <td>...</td>\n",
       "      <td>...</td>\n",
       "      <td>...</td>\n",
       "      <td>...</td>\n",
       "      <td>...</td>\n",
       "      <td>...</td>\n",
       "      <td>...</td>\n",
       "      <td>...</td>\n",
       "      <td>...</td>\n",
       "      <td>...</td>\n",
       "      <td>...</td>\n",
       "      <td>...</td>\n",
       "    </tr>\n",
       "    <tr>\n",
       "      <th>886</th>\n",
       "      <td>887</td>\n",
       "      <td>0</td>\n",
       "      <td>2</td>\n",
       "      <td>Montvila, Rev. Juozas</td>\n",
       "      <td>male</td>\n",
       "      <td>27.0</td>\n",
       "      <td>0</td>\n",
       "      <td>0</td>\n",
       "      <td>211536</td>\n",
       "      <td>13.0000</td>\n",
       "      <td>NaN</td>\n",
       "      <td>S</td>\n",
       "    </tr>\n",
       "    <tr>\n",
       "      <th>887</th>\n",
       "      <td>888</td>\n",
       "      <td>1</td>\n",
       "      <td>1</td>\n",
       "      <td>Graham, Miss. Margaret Edith</td>\n",
       "      <td>female</td>\n",
       "      <td>19.0</td>\n",
       "      <td>0</td>\n",
       "      <td>0</td>\n",
       "      <td>112053</td>\n",
       "      <td>30.0000</td>\n",
       "      <td>B42</td>\n",
       "      <td>S</td>\n",
       "    </tr>\n",
       "    <tr>\n",
       "      <th>888</th>\n",
       "      <td>889</td>\n",
       "      <td>0</td>\n",
       "      <td>3</td>\n",
       "      <td>Johnston, Miss. Catherine Helen \"Carrie\"</td>\n",
       "      <td>female</td>\n",
       "      <td>NaN</td>\n",
       "      <td>1</td>\n",
       "      <td>2</td>\n",
       "      <td>W./C. 6607</td>\n",
       "      <td>23.4500</td>\n",
       "      <td>NaN</td>\n",
       "      <td>S</td>\n",
       "    </tr>\n",
       "    <tr>\n",
       "      <th>889</th>\n",
       "      <td>890</td>\n",
       "      <td>1</td>\n",
       "      <td>1</td>\n",
       "      <td>Behr, Mr. Karl Howell</td>\n",
       "      <td>male</td>\n",
       "      <td>26.0</td>\n",
       "      <td>0</td>\n",
       "      <td>0</td>\n",
       "      <td>111369</td>\n",
       "      <td>30.0000</td>\n",
       "      <td>C148</td>\n",
       "      <td>C</td>\n",
       "    </tr>\n",
       "    <tr>\n",
       "      <th>890</th>\n",
       "      <td>891</td>\n",
       "      <td>0</td>\n",
       "      <td>3</td>\n",
       "      <td>Dooley, Mr. Patrick</td>\n",
       "      <td>male</td>\n",
       "      <td>32.0</td>\n",
       "      <td>0</td>\n",
       "      <td>0</td>\n",
       "      <td>370376</td>\n",
       "      <td>7.7500</td>\n",
       "      <td>NaN</td>\n",
       "      <td>Q</td>\n",
       "    </tr>\n",
       "  </tbody>\n",
       "</table>\n",
       "<p>891 rows × 12 columns</p>\n",
       "</div>"
      ],
      "text/plain": [
       "     PassengerId  Survived  Pclass  \\\n",
       "0              1         0       3   \n",
       "1              2         1       1   \n",
       "2              3         1       3   \n",
       "3              4         1       1   \n",
       "4              5         0       3   \n",
       "..           ...       ...     ...   \n",
       "886          887         0       2   \n",
       "887          888         1       1   \n",
       "888          889         0       3   \n",
       "889          890         1       1   \n",
       "890          891         0       3   \n",
       "\n",
       "                                                  Name     Sex   Age  SibSp  \\\n",
       "0                              Braund, Mr. Owen Harris    male  22.0      1   \n",
       "1    Cumings, Mrs. John Bradley (Florence Briggs Th...  female  38.0      1   \n",
       "2                               Heikkinen, Miss. Laina  female  26.0      0   \n",
       "3         Futrelle, Mrs. Jacques Heath (Lily May Peel)  female  35.0      1   \n",
       "4                             Allen, Mr. William Henry    male  35.0      0   \n",
       "..                                                 ...     ...   ...    ...   \n",
       "886                              Montvila, Rev. Juozas    male  27.0      0   \n",
       "887                       Graham, Miss. Margaret Edith  female  19.0      0   \n",
       "888           Johnston, Miss. Catherine Helen \"Carrie\"  female   NaN      1   \n",
       "889                              Behr, Mr. Karl Howell    male  26.0      0   \n",
       "890                                Dooley, Mr. Patrick    male  32.0      0   \n",
       "\n",
       "     Parch            Ticket     Fare Cabin Embarked  \n",
       "0        0         A/5 21171   7.2500   NaN        S  \n",
       "1        0          PC 17599  71.2833   C85        C  \n",
       "2        0  STON/O2. 3101282   7.9250   NaN        S  \n",
       "3        0            113803  53.1000  C123        S  \n",
       "4        0            373450   8.0500   NaN        S  \n",
       "..     ...               ...      ...   ...      ...  \n",
       "886      0            211536  13.0000   NaN        S  \n",
       "887      0            112053  30.0000   B42        S  \n",
       "888      2        W./C. 6607  23.4500   NaN        S  \n",
       "889      0            111369  30.0000  C148        C  \n",
       "890      0            370376   7.7500   NaN        Q  \n",
       "\n",
       "[891 rows x 12 columns]"
      ]
     },
     "execution_count": 17,
     "metadata": {},
     "output_type": "execute_result"
    }
   ],
   "source": [
    "df_titanic = pd.read_csv(\"titanic.csv\")\n",
    "df_titanic"
   ]
  },
  {
   "cell_type": "code",
   "execution_count": 18,
   "metadata": {},
   "outputs": [
    {
     "data": {
      "text/plain": [
       "(891, 12)"
      ]
     },
     "execution_count": 18,
     "metadata": {},
     "output_type": "execute_result"
    }
   ],
   "source": [
    "df_titanic.shape"
   ]
  },
  {
   "cell_type": "code",
   "execution_count": 19,
   "metadata": {},
   "outputs": [],
   "source": [
    "df_backup = df_titanic"
   ]
  },
  {
   "cell_type": "code",
   "execution_count": 20,
   "metadata": {},
   "outputs": [
    {
     "data": {
      "text/plain": [
       "Index(['PassengerId', 'Survived', 'Pclass', 'Name', 'Sex', 'Age', 'SibSp',\n",
       "       'Parch', 'Ticket', 'Fare', 'Cabin', 'Embarked'],\n",
       "      dtype='object')"
      ]
     },
     "execution_count": 20,
     "metadata": {},
     "output_type": "execute_result"
    }
   ],
   "source": [
    "df_titanic.columns"
   ]
  },
  {
   "cell_type": "code",
   "execution_count": 21,
   "metadata": {},
   "outputs": [
    {
     "data": {
      "text/plain": [
       "PassengerId      int64\n",
       "Survived         int64\n",
       "Pclass           int64\n",
       "Name            object\n",
       "Sex             object\n",
       "Age            float64\n",
       "SibSp            int64\n",
       "Parch            int64\n",
       "Ticket          object\n",
       "Fare           float64\n",
       "Cabin           object\n",
       "Embarked        object\n",
       "dtype: object"
      ]
     },
     "execution_count": 21,
     "metadata": {},
     "output_type": "execute_result"
    }
   ],
   "source": [
    "df_titanic.dtypes"
   ]
  },
  {
   "cell_type": "code",
   "execution_count": 24,
   "metadata": {},
   "outputs": [
    {
     "name": "stdout",
     "output_type": "stream",
     "text": [
      "<class 'pandas.core.frame.DataFrame'>\n",
      "RangeIndex: 891 entries, 0 to 890\n",
      "Data columns (total 12 columns):\n",
      " #   Column       Non-Null Count  Dtype  \n",
      "---  ------       --------------  -----  \n",
      " 0   PassengerId  891 non-null    int64  \n",
      " 1   Survived     891 non-null    int64  \n",
      " 2   Pclass       891 non-null    int64  \n",
      " 3   Name         891 non-null    object \n",
      " 4   Sex          891 non-null    object \n",
      " 5   Age          714 non-null    float64\n",
      " 6   SibSp        891 non-null    int64  \n",
      " 7   Parch        891 non-null    int64  \n",
      " 8   Ticket       891 non-null    object \n",
      " 9   Fare         891 non-null    float64\n",
      " 10  Cabin        204 non-null    object \n",
      " 11  Embarked     889 non-null    object \n",
      "dtypes: float64(2), int64(5), object(5)\n",
      "memory usage: 83.7+ KB\n"
     ]
    }
   ],
   "source": [
    "df_titanic.info()"
   ]
  },
  {
   "cell_type": "code",
   "execution_count": 23,
   "metadata": {},
   "outputs": [
    {
     "data": {
      "text/html": [
       "<div>\n",
       "<style scoped>\n",
       "    .dataframe tbody tr th:only-of-type {\n",
       "        vertical-align: middle;\n",
       "    }\n",
       "\n",
       "    .dataframe tbody tr th {\n",
       "        vertical-align: top;\n",
       "    }\n",
       "\n",
       "    .dataframe thead th {\n",
       "        text-align: right;\n",
       "    }\n",
       "</style>\n",
       "<table border=\"1\" class=\"dataframe\">\n",
       "  <thead>\n",
       "    <tr style=\"text-align: right;\">\n",
       "      <th></th>\n",
       "      <th>PassengerId</th>\n",
       "      <th>Survived</th>\n",
       "      <th>Pclass</th>\n",
       "      <th>Age</th>\n",
       "      <th>SibSp</th>\n",
       "      <th>Parch</th>\n",
       "      <th>Fare</th>\n",
       "    </tr>\n",
       "  </thead>\n",
       "  <tbody>\n",
       "    <tr>\n",
       "      <th>count</th>\n",
       "      <td>891.000000</td>\n",
       "      <td>891.000000</td>\n",
       "      <td>891.000000</td>\n",
       "      <td>714.000000</td>\n",
       "      <td>891.000000</td>\n",
       "      <td>891.000000</td>\n",
       "      <td>891.000000</td>\n",
       "    </tr>\n",
       "    <tr>\n",
       "      <th>mean</th>\n",
       "      <td>446.000000</td>\n",
       "      <td>0.383838</td>\n",
       "      <td>2.308642</td>\n",
       "      <td>29.699118</td>\n",
       "      <td>0.523008</td>\n",
       "      <td>0.381594</td>\n",
       "      <td>32.204208</td>\n",
       "    </tr>\n",
       "    <tr>\n",
       "      <th>std</th>\n",
       "      <td>257.353842</td>\n",
       "      <td>0.486592</td>\n",
       "      <td>0.836071</td>\n",
       "      <td>14.526497</td>\n",
       "      <td>1.102743</td>\n",
       "      <td>0.806057</td>\n",
       "      <td>49.693429</td>\n",
       "    </tr>\n",
       "    <tr>\n",
       "      <th>min</th>\n",
       "      <td>1.000000</td>\n",
       "      <td>0.000000</td>\n",
       "      <td>1.000000</td>\n",
       "      <td>0.420000</td>\n",
       "      <td>0.000000</td>\n",
       "      <td>0.000000</td>\n",
       "      <td>0.000000</td>\n",
       "    </tr>\n",
       "    <tr>\n",
       "      <th>25%</th>\n",
       "      <td>223.500000</td>\n",
       "      <td>0.000000</td>\n",
       "      <td>2.000000</td>\n",
       "      <td>20.125000</td>\n",
       "      <td>0.000000</td>\n",
       "      <td>0.000000</td>\n",
       "      <td>7.910400</td>\n",
       "    </tr>\n",
       "    <tr>\n",
       "      <th>50%</th>\n",
       "      <td>446.000000</td>\n",
       "      <td>0.000000</td>\n",
       "      <td>3.000000</td>\n",
       "      <td>28.000000</td>\n",
       "      <td>0.000000</td>\n",
       "      <td>0.000000</td>\n",
       "      <td>14.454200</td>\n",
       "    </tr>\n",
       "    <tr>\n",
       "      <th>75%</th>\n",
       "      <td>668.500000</td>\n",
       "      <td>1.000000</td>\n",
       "      <td>3.000000</td>\n",
       "      <td>38.000000</td>\n",
       "      <td>1.000000</td>\n",
       "      <td>0.000000</td>\n",
       "      <td>31.000000</td>\n",
       "    </tr>\n",
       "    <tr>\n",
       "      <th>max</th>\n",
       "      <td>891.000000</td>\n",
       "      <td>1.000000</td>\n",
       "      <td>3.000000</td>\n",
       "      <td>80.000000</td>\n",
       "      <td>8.000000</td>\n",
       "      <td>6.000000</td>\n",
       "      <td>512.329200</td>\n",
       "    </tr>\n",
       "  </tbody>\n",
       "</table>\n",
       "</div>"
      ],
      "text/plain": [
       "       PassengerId    Survived      Pclass         Age       SibSp  \\\n",
       "count   891.000000  891.000000  891.000000  714.000000  891.000000   \n",
       "mean    446.000000    0.383838    2.308642   29.699118    0.523008   \n",
       "std     257.353842    0.486592    0.836071   14.526497    1.102743   \n",
       "min       1.000000    0.000000    1.000000    0.420000    0.000000   \n",
       "25%     223.500000    0.000000    2.000000   20.125000    0.000000   \n",
       "50%     446.000000    0.000000    3.000000   28.000000    0.000000   \n",
       "75%     668.500000    1.000000    3.000000   38.000000    1.000000   \n",
       "max     891.000000    1.000000    3.000000   80.000000    8.000000   \n",
       "\n",
       "            Parch        Fare  \n",
       "count  891.000000  891.000000  \n",
       "mean     0.381594   32.204208  \n",
       "std      0.806057   49.693429  \n",
       "min      0.000000    0.000000  \n",
       "25%      0.000000    7.910400  \n",
       "50%      0.000000   14.454200  \n",
       "75%      0.000000   31.000000  \n",
       "max      6.000000  512.329200  "
      ]
     },
     "execution_count": 23,
     "metadata": {},
     "output_type": "execute_result"
    }
   ],
   "source": [
    "df_titanic.describe()"
   ]
  },
  {
   "cell_type": "code",
   "execution_count": 59,
   "metadata": {},
   "outputs": [],
   "source": [
    "def processamento_df(df_titanic):\n",
    "    df_titanic.head(3)\n",
    "\n",
    "    baby_df = df_titanic.sample(100)\n",
    "\n",
    "    df_titanic = df_titanic.sort_values(\"Fare\")\n",
    "\n",
    "    df_titanic = df_titanic.drop([ \"SibSp\", \"Parch\"], axis=\"columns\")\n",
    "\n",
    "    df_titanic = df_titanic.dropna(subset = \"Fare\")\n",
    "\n",
    "    df_titanic = df_titanic.reset_index()\n",
    "\n",
    "    metricas = df_titanic.describe()\n",
    "\n",
    "    return baby_df,df_titanic, metricas"
   ]
  },
  {
   "cell_type": "code",
   "execution_count": 60,
   "metadata": {},
   "outputs": [],
   "source": [
    "df_titanic = pd.read_csv(\"titanic.csv\")"
   ]
  },
  {
   "cell_type": "code",
   "execution_count": 61,
   "metadata": {},
   "outputs": [],
   "source": [
    "baby_df, df_titanic, metricas = processamento_df(df_titanic)"
   ]
  },
  {
   "cell_type": "code",
   "execution_count": 62,
   "metadata": {},
   "outputs": [
    {
     "name": "stdout",
     "output_type": "stream",
     "text": [
      "Amostra aleatória (baby_df):\n",
      "     PassengerId  Survived  Pclass  \\\n",
      "335          336         0       3   \n",
      "771          772         0       3   \n",
      "245          246         0       1   \n",
      "520          521         1       1   \n",
      "610          611         0       3   \n",
      "..           ...       ...     ...   \n",
      "259          260         1       2   \n",
      "588          589         0       3   \n",
      "106          107         1       3   \n",
      "711          712         0       1   \n",
      "417          418         1       2   \n",
      "\n",
      "                                                  Name     Sex   Age  SibSp  \\\n",
      "335                                 Denkoff, Mr. Mitto    male   NaN      0   \n",
      "771                            Jensen, Mr. Niels Peder    male  48.0      0   \n",
      "245                        Minahan, Dr. William Edward    male  44.0      2   \n",
      "520                              Perreault, Miss. Anne  female  30.0      0   \n",
      "610  Andersson, Mrs. Anders Johan (Alfrida Konstant...  female  39.0      1   \n",
      "..                                                 ...     ...   ...    ...   \n",
      "259                        Parrish, Mrs. (Lutie Davis)  female  50.0      0   \n",
      "588                              Gilinski, Mr. Eliezer    male  22.0      0   \n",
      "106                   Salkjelsvik, Miss. Anna Kristine  female  21.0      0   \n",
      "711                                 Klaber, Mr. Herman    male   NaN      0   \n",
      "417                      Silven, Miss. Lyyli Karoliina  female  18.0      0   \n",
      "\n",
      "     Parch  Ticket     Fare Cabin Embarked  \n",
      "335      0  349225   7.8958   NaN        S  \n",
      "771      0  350047   7.8542   NaN        S  \n",
      "245      0   19928  90.0000   C78        Q  \n",
      "520      0   12749  93.5000   B73        S  \n",
      "610      5  347082  31.2750   NaN        S  \n",
      "..     ...     ...      ...   ...      ...  \n",
      "259      1  230433  26.0000   NaN        S  \n",
      "588      0   14973   8.0500   NaN        S  \n",
      "106      0  343120   7.6500   NaN        S  \n",
      "711      0  113028  26.5500  C124        S  \n",
      "417      2  250652  13.0000   NaN        S  \n",
      "\n",
      "[100 rows x 12 columns]\n"
     ]
    }
   ],
   "source": [
    "print(\"Amostra aleatória (baby_df):\")\n",
    "print(baby_df)"
   ]
  },
  {
   "cell_type": "code",
   "execution_count": 63,
   "metadata": {},
   "outputs": [
    {
     "name": "stdout",
     "output_type": "stream",
     "text": [
      "DataFrame processo (df_titanic):\n",
      "     index  PassengerId  Survived  Pclass                                Name  \\\n",
      "0      271          272         1       3        Tornquist, Mr. William Henry   \n",
      "1      597          598         0       3                 Johnson, Mr. Alfred   \n",
      "2      302          303         0       3     Johnson, Mr. William Cahoone Jr   \n",
      "3      633          634         0       1       Parr, Mr. William Henry Marsh   \n",
      "4      277          278         0       2         Parkes, Mr. Francis \"Frank\"   \n",
      "..     ...          ...       ...     ...                                 ...   \n",
      "886    438          439         0       1                   Fortune, Mr. Mark   \n",
      "887    341          342         1       1      Fortune, Miss. Alice Elizabeth   \n",
      "888    737          738         1       1              Lesurer, Mr. Gustave J   \n",
      "889    258          259         1       1                    Ward, Miss. Anna   \n",
      "890    679          680         1       1  Cardeza, Mr. Thomas Drake Martinez   \n",
      "\n",
      "        Sex   Age    Ticket      Fare        Cabin Embarked  \n",
      "0      male  25.0      LINE    0.0000          NaN        S  \n",
      "1      male  49.0      LINE    0.0000          NaN        S  \n",
      "2      male  19.0      LINE    0.0000          NaN        S  \n",
      "3      male   NaN    112052    0.0000          NaN        S  \n",
      "4      male   NaN    239853    0.0000          NaN        S  \n",
      "..      ...   ...       ...       ...          ...      ...  \n",
      "886    male  64.0     19950  263.0000  C23 C25 C27        S  \n",
      "887  female  24.0     19950  263.0000  C23 C25 C27        S  \n",
      "888    male  35.0  PC 17755  512.3292         B101        C  \n",
      "889  female  35.0  PC 17755  512.3292          NaN        C  \n",
      "890    male  36.0  PC 17755  512.3292  B51 B53 B55        C  \n",
      "\n",
      "[891 rows x 11 columns]\n"
     ]
    }
   ],
   "source": [
    "print(\"DataFrame processo (df_titanic):\")\n",
    "print(df_titanic)"
   ]
  },
  {
   "cell_type": "code",
   "execution_count": 65,
   "metadata": {},
   "outputs": [
    {
     "name": "stdout",
     "output_type": "stream",
     "text": [
      "Metricas descritivas (metricas):\n",
      "            index  PassengerId    Survived      Pclass         Age        Fare\n",
      "count  891.000000   891.000000  891.000000  891.000000  714.000000  891.000000\n",
      "mean   445.000000   446.000000    0.383838    2.308642   29.699118   32.204208\n",
      "std    257.353842   257.353842    0.486592    0.836071   14.526497   49.693429\n",
      "min      0.000000     1.000000    0.000000    1.000000    0.420000    0.000000\n",
      "25%    222.500000   223.500000    0.000000    2.000000   20.125000    7.910400\n",
      "50%    445.000000   446.000000    0.000000    3.000000   28.000000   14.454200\n",
      "75%    667.500000   668.500000    1.000000    3.000000   38.000000   31.000000\n",
      "max    890.000000   891.000000    1.000000    3.000000   80.000000  512.329200\n"
     ]
    }
   ],
   "source": [
    "print(\"Metricas descritivas (metricas):\")\n",
    "print(metricas)"
   ]
  },
  {
   "cell_type": "code",
   "execution_count": 73,
   "metadata": {},
   "outputs": [
    {
     "data": {
      "text/plain": [
       "(array([0, 1, 2]), [Text(0, 0, '3'), Text(1, 0, '1'), Text(2, 0, '2')])"
      ]
     },
     "execution_count": 73,
     "metadata": {},
     "output_type": "execute_result"
    },
    {
     "data": {
      "image/png": "[encoded data removed]",
      "text/plain": [
       "<Figure size 640x480 with 1 Axes>"
      ]
     },
     "metadata": {},
     "output_type": "display_data"
    }
   ],
   "source": [
    "contagem_passadeiros = df_titanic[\"Pclass\"].value_counts()\n",
    "contagem_passadeiros.plot(kind = \"bar\", edgecolor = \"blue\", color = 'violet')\n",
    "\n",
    "plt.xlabel(\"classe do passageiro\")\n",
    "plt.xlabel(\"Quantidade\")\n",
    "plt.title(\"numero de passageiros por classe\")\n",
    "plt.xticks(rotation=0)"
   ]
  },
  {
   "cell_type": "code",
   "execution_count": 72,
   "metadata": {},
   "outputs": [
    {
     "data": {
      "text/plain": [
       "<matplotlib.legend.Legend at 0x145c0a3f320>"
      ]
     },
     "execution_count": 72,
     "metadata": {},
     "output_type": "execute_result"
    },
    {
     "data": {
      "image/png": "[encoded data removed]",
      "text/plain": [
       "<Figure size 1000x600 with 1 Axes>"
      ]
     },
     "metadata": {},
     "output_type": "display_data"
    }
   ],
   "source": [
    "taxa_sobreviventes_sexo = df_titanic.groupby(\"Sex\")[\"Survived\"].value_counts(normalize=True).unstack() * 100\n",
    "taxa_sobreviventes_sexo.plot(kind=\"bar\", edgecolor=\"pink\", color=[\"blue\", \"green\"], figsize=(10, 6))\n",
    "plt.title(\"Taxa de Sobreviventes por Sexo\")\n",
    "plt.xlabel(\"Sexo\")\n",
    "plt.ylabel(\"Porcentagem\")\n",
    "plt.xticks(rotation=0)\n",
    "plt.legend([\"Não Sobreviventes\", \"Sobreviventes\"], title=\"Sobrevivência\")"
   ]
  },
  {
   "cell_type": "code",
   "execution_count": 75,
   "metadata": {},
   "outputs": [
    {
     "data": {
      "text/plain": [
       "Text(0, 0.5, 'Contagem')"
      ]
     },
     "execution_count": 75,
     "metadata": {},
     "output_type": "execute_result"
    },
    {
     "data": {
      "image/png": "[encoded data removed]",
      "text/plain": [
       "<Figure size 1000x600 with 1 Axes>"
      ]
     },
     "metadata": {},
     "output_type": "display_data"
    }
   ],
   "source": [
    "distribuicao_idade = df_titanic[\"Age\"].plot(kind=\"hist\", bins=10, edgecolor=\"black\", figsize=(10, 6) )\n",
    "distribuicao_idade.set_title(\"Distribuição de Idades\")\n",
    "distribuicao_idade.set_xlabel(\"Idade\")\n",
    "distribuicao_idade.set_ylabel(\"Contagem\")"
   ]
  }
 ],
 "metadata": {
  "kernelspec": {
   "display_name": "Python 3",
   "language": "python",
   "name": "python3"
  },
  "language_info": {
   "codemirror_mode": {
    "name": "ipython",
    "version": 3
   },
   "file_extension": ".py",
   "mimetype": "text/x-python",
   "name": "python",
   "nbconvert_exporter": "python",
   "pygments_lexer": "ipython3",
   "version": "3.12.3"
  }
 },
 "nbformat": 4,
 "nbformat_minor": 2
}
